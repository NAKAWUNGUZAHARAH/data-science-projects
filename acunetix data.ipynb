{
 "cells": [
  {
   "cell_type": "code",
   "execution_count": 1,
   "metadata": {},
   "outputs": [],
   "source": [
    "import pandas as pd\n",
    "import numpy as np\n",
    "# loading the required libraries\n",
    "import os\n",
    "from pandas import set_option\n",
    "from pandas.plotting import scatter_matrix\n",
    "import numpy as np\n",
    "import seaborn as sns \n",
    "import matplotlib.pyplot as plt\n",
    "from matplotlib import pyplot\n",
    "%matplotlib inline\n",
    "import statsmodels.formula.api as smf # linear regression --> Rsquared\n",
    "from sklearn.cluster import KMeans\n",
    "from sklearn.decomposition import PCA\n",
    "random_state =  0"
   ]
  },
  {
   "cell_type": "code",
   "execution_count": 4,
   "metadata": {},
   "outputs": [],
   "source": [
    "# reading data into the dataframe\n",
    "df =pd.read_csv('acunetix.csv')"
   ]
  },
  {
   "cell_type": "code",
   "execution_count": 6,
   "metadata": {},
   "outputs": [
    {
     "data": {
      "text/html": [
       "<div>\n",
       "<style scoped>\n",
       "    .dataframe tbody tr th:only-of-type {\n",
       "        vertical-align: middle;\n",
       "    }\n",
       "\n",
       "    .dataframe tbody tr th {\n",
       "        vertical-align: top;\n",
       "    }\n",
       "\n",
       "    .dataframe thead th {\n",
       "        text-align: right;\n",
       "    }\n",
       "</style>\n",
       "<table border=\"1\" class=\"dataframe\">\n",
       "  <thead>\n",
       "    <tr style=\"text-align: right;\">\n",
       "      <th></th>\n",
       "      <th>Unnamed: 0</th>\n",
       "      <th>Address</th>\n",
       "      <th>Time stamp</th>\n",
       "      <th>Method</th>\n",
       "      <th>URI</th>\n",
       "      <th>status code</th>\n",
       "      <th>User agent</th>\n",
       "    </tr>\n",
       "  </thead>\n",
       "  <tbody>\n",
       "    <tr>\n",
       "      <th>0</th>\n",
       "      <td>0</td>\n",
       "      <td>192.168.4.25</td>\n",
       "      <td>[22/Dec/2016:16:30:52</td>\n",
       "      <td>POST</td>\n",
       "      <td>/administrator/index.php</td>\n",
       "      <td>303.0</td>\n",
       "      <td>Mozilla/5.0 (Windows NT 6.1; WOW64) AppleWebKi...</td>\n",
       "    </tr>\n",
       "    <tr>\n",
       "      <th>1</th>\n",
       "      <td>1</td>\n",
       "      <td>192.168.4.25</td>\n",
       "      <td>[22/Dec/2016:16:29:05</td>\n",
       "      <td>POST</td>\n",
       "      <td>/index.php/component/search/</td>\n",
       "      <td>500.0</td>\n",
       "      <td>Mozilla/5.0 (Windows NT 6.1; WOW64) AppleWebKi...</td>\n",
       "    </tr>\n",
       "    <tr>\n",
       "      <th>2</th>\n",
       "      <td>2</td>\n",
       "      <td>192.168.4.25</td>\n",
       "      <td>[22/Dec/2016:16:28:53</td>\n",
       "      <td>POST</td>\n",
       "      <td>/index.php/component/search/</td>\n",
       "      <td>303.0</td>\n",
       "      <td>Mozilla/5.0 (Windows NT 6.1; WOW64) AppleWebKi...</td>\n",
       "    </tr>\n",
       "    <tr>\n",
       "      <th>3</th>\n",
       "      <td>3</td>\n",
       "      <td>192.168.4.25</td>\n",
       "      <td>[22/Dec/2016:16:32:50</td>\n",
       "      <td>POST</td>\n",
       "      <td>/index.php/component/search/</td>\n",
       "      <td>200.0</td>\n",
       "      <td>Mozilla/5.0 (Windows NT 6.1; WOW64) AppleWebKi...</td>\n",
       "    </tr>\n",
       "    <tr>\n",
       "      <th>4</th>\n",
       "      <td>4</td>\n",
       "      <td>192.168.4.25</td>\n",
       "      <td>[22/Dec/2016:16:29:13</td>\n",
       "      <td>POST</td>\n",
       "      <td>/index.php/component/search/</td>\n",
       "      <td>200.0</td>\n",
       "      <td>Mozilla/5.0 (Windows NT 6.1; WOW64) AppleWebKi...</td>\n",
       "    </tr>\n",
       "  </tbody>\n",
       "</table>\n",
       "</div>"
      ],
      "text/plain": [
       "   Unnamed: 0       Address             Time stamp Method  \\\n",
       "0           0  192.168.4.25  [22/Dec/2016:16:30:52   POST   \n",
       "1           1  192.168.4.25  [22/Dec/2016:16:29:05   POST   \n",
       "2           2  192.168.4.25  [22/Dec/2016:16:28:53   POST   \n",
       "3           3  192.168.4.25  [22/Dec/2016:16:32:50   POST   \n",
       "4           4  192.168.4.25  [22/Dec/2016:16:29:13   POST   \n",
       "\n",
       "                            URI  status code  \\\n",
       "0      /administrator/index.php        303.0   \n",
       "1  /index.php/component/search/        500.0   \n",
       "2  /index.php/component/search/        303.0   \n",
       "3  /index.php/component/search/        200.0   \n",
       "4  /index.php/component/search/        200.0   \n",
       "\n",
       "                                          User agent  \n",
       "0  Mozilla/5.0 (Windows NT 6.1; WOW64) AppleWebKi...  \n",
       "1  Mozilla/5.0 (Windows NT 6.1; WOW64) AppleWebKi...  \n",
       "2  Mozilla/5.0 (Windows NT 6.1; WOW64) AppleWebKi...  \n",
       "3  Mozilla/5.0 (Windows NT 6.1; WOW64) AppleWebKi...  \n",
       "4  Mozilla/5.0 (Windows NT 6.1; WOW64) AppleWebKi...  "
      ]
     },
     "execution_count": 6,
     "metadata": {},
     "output_type": "execute_result"
    }
   ],
   "source": [
    "df.head()"
   ]
  },
  {
   "cell_type": "code",
   "execution_count": 7,
   "metadata": {},
   "outputs": [
    {
     "data": {
      "text/plain": [
       "Index([u'Unnamed: 0', u'Address', u'Time stamp', u'Method', u'URI',\n",
       "       u'status code', u'User agent'],\n",
       "      dtype='object')"
      ]
     },
     "execution_count": 7,
     "metadata": {},
     "output_type": "execute_result"
    }
   ],
   "source": [
    "df.columns"
   ]
  },
  {
   "cell_type": "code",
   "execution_count": 8,
   "metadata": {},
   "outputs": [
    {
     "data": {
      "text/plain": [
       "<bound method DataFrame.describe of       Unnamed: 0       Address             Time stamp Method  \\\n",
       "0              0  192.168.4.25  [22/Dec/2016:16:30:52   POST   \n",
       "1              1  192.168.4.25  [22/Dec/2016:16:29:05   POST   \n",
       "2              2  192.168.4.25  [22/Dec/2016:16:28:53   POST   \n",
       "3              3  192.168.4.25  [22/Dec/2016:16:32:50   POST   \n",
       "4              4  192.168.4.25  [22/Dec/2016:16:29:13   POST   \n",
       "5              5  192.168.4.25  [22/Dec/2016:16:29:33    GET   \n",
       "6              6  192.168.4.25  [22/Dec/2016:16:24:39   POST   \n",
       "7              7  192.168.4.25  [22/Dec/2016:16:28:52   POST   \n",
       "8              8  192.168.4.25  [22/Dec/2016:16:28:58   POST   \n",
       "9              9  192.168.4.25  [22/Dec/2016:16:21:56   POST   \n",
       "10            10  192.168.4.25  [22/Dec/2016:16:20:49   POST   \n",
       "11            11  192.168.4.25  [22/Dec/2016:16:18:20    GET   \n",
       "12            12  192.168.4.25  [22/Dec/2016:16:28:11   POST   \n",
       "13            13  192.168.4.25  [22/Dec/2016:16:25:15   POST   \n",
       "14            14  192.168.4.25  [22/Dec/2016:16:26:04   POST   \n",
       "15            15  192.168.4.25  [22/Dec/2016:16:27:34   POST   \n",
       "16            16  192.168.4.25  [22/Dec/2016:16:28:41   POST   \n",
       "17            17  192.168.4.25  [22/Dec/2016:16:25:45   POST   \n",
       "18            18  192.168.4.25  [22/Dec/2016:16:20:01    GET   \n",
       "19            19  192.168.4.25  [22/Dec/2016:16:39:05   POST   \n",
       "20            20  192.168.4.25  [22/Dec/2016:16:37:41   POST   \n",
       "21            21  192.168.4.25  [22/Dec/2016:16:40:05   POST   \n",
       "22            22  192.168.4.25  [22/Dec/2016:16:21:23   POST   \n",
       "23            23  192.168.4.25  [22/Dec/2016:16:34:32   POST   \n",
       "24            24  192.168.4.25  [22/Dec/2016:16:36:25   POST   \n",
       "25            25  192.168.4.25  [22/Dec/2016:16:20:43   POST   \n",
       "26            26  192.168.4.25  [22/Dec/2016:16:30:03   POST   \n",
       "27            27  192.168.4.25  [22/Dec/2016:16:18:11    GET   \n",
       "28            28  192.168.4.25  [22/Dec/2016:16:18:19    GET   \n",
       "29            29  192.168.4.25  [22/Dec/2016:16:34:28    GET   \n",
       "...          ...           ...                    ...    ...   \n",
       "6509        6509  192.168.4.25  [22/Dec/2016:16:29:23   POST   \n",
       "6510        6510  192.168.4.25  [22/Dec/2016:16:29:46   POST   \n",
       "6511        6511  192.168.4.25  [22/Dec/2016:16:39:17   POST   \n",
       "6512        6512  192.168.4.25  [22/Dec/2016:16:27:03   POST   \n",
       "6513        6513  192.168.4.25  [22/Dec/2016:16:28:24   POST   \n",
       "6514        6514  192.168.4.25  [22/Dec/2016:16:22:32   POST   \n",
       "6515        6515  192.168.4.25  [22/Dec/2016:16:38:21   POST   \n",
       "6516        6516  192.168.4.25  [22/Dec/2016:16:18:55   POST   \n",
       "6517        6517  192.168.4.25  [22/Dec/2016:16:27:16   POST   \n",
       "6518        6518  192.168.4.25  [22/Dec/2016:16:39:47   POST   \n",
       "6519        6519  192.168.4.25  [22/Dec/2016:16:27:02   POST   \n",
       "6520        6520  192.168.4.25  [22/Dec/2016:16:30:35   POST   \n",
       "6521        6521  192.168.4.25  [22/Dec/2016:16:24:38   POST   \n",
       "6522        6522  192.168.4.25  [22/Dec/2016:16:38:27   POST   \n",
       "6523        6523  192.168.4.25  [22/Dec/2016:16:26:44   POST   \n",
       "6524        6524  192.168.4.25  [22/Dec/2016:16:22:37   POST   \n",
       "6525        6525  192.168.4.25  [22/Dec/2016:16:32:06   POST   \n",
       "6526        6526  192.168.4.25  [22/Dec/2016:16:32:57   POST   \n",
       "6527        6527  192.168.4.25  [22/Dec/2016:16:32:38   POST   \n",
       "6528        6528  192.168.4.25  [22/Dec/2016:16:36:22   POST   \n",
       "6529        6529  192.168.4.25  [22/Dec/2016:16:18:54   POST   \n",
       "6530        6530  192.168.4.25  [22/Dec/2016:16:29:16   POST   \n",
       "6531        6531  192.168.4.25  [22/Dec/2016:16:22:24   POST   \n",
       "6532        6532  192.168.4.25  [22/Dec/2016:16:21:10   POST   \n",
       "6533        6533  192.168.4.25  [22/Dec/2016:16:32:53   POST   \n",
       "6534        6534  192.168.4.25  [22/Dec/2016:16:22:11   POST   \n",
       "6535        6535  192.168.4.25  [22/Dec/2016:16:33:44   POST   \n",
       "6536        6536  192.168.4.25  [22/Dec/2016:16:23:07   POST   \n",
       "6537        6537  192.168.4.25  [22/Dec/2016:16:32:54   POST   \n",
       "6538        6538  192.168.4.25  [22/Dec/2016:16:20:55   POST   \n",
       "\n",
       "                                                    URI  status code  \\\n",
       "0                              /administrator/index.php        303.0   \n",
       "1                          /index.php/component/search/        500.0   \n",
       "2                          /index.php/component/search/        303.0   \n",
       "3                          /index.php/component/search/        200.0   \n",
       "4                          /index.php/component/search/        200.0   \n",
       "5     /index.php/component/search/?searchword=&order...        200.0   \n",
       "6                          /index.php/component/search/        303.0   \n",
       "7                          /index.php/component/search/        303.0   \n",
       "8                          /index.php/component/search/        200.0   \n",
       "9                          /index.php/component/search/        303.0   \n",
       "10                         /index.php/component/search/        303.0   \n",
       "11                  /templates/beez_20/css/personal.css        200.0   \n",
       "12                         /index.php/component/search/        303.0   \n",
       "13                         /index.php/component/search/        303.0   \n",
       "14                         /index.php/component/search/        303.0   \n",
       "15                         /index.php/component/search/        303.0   \n",
       "16                         /index.php/component/search/        500.0   \n",
       "17                         /index.php/component/search/        200.0   \n",
       "18    /index.php/2-uncategorised/1--1'%20OR%202%2b19...        200.0   \n",
       "19          /index.php/component/users/?task=user.login        303.0   \n",
       "20         /index.php/component/users/?task=/etc/passwd        200.0   \n",
       "21          /index.php/component/users/?task=user.login        303.0   \n",
       "22                         /index.php/component/search/        303.0   \n",
       "23                         /index.php/component/search/        303.0   \n",
       "24                         /index.php/component/search/        303.0   \n",
       "25                         /index.php/component/search/        303.0   \n",
       "26                             /administrator/index.php        500.0   \n",
       "27                 /$sitepreview/localhost:2006/Wizard/        404.0   \n",
       "28                    /media/system/js/mootools-more.js        200.0   \n",
       "29    /index.php/component/search/?ordering=newest%2...        200.0   \n",
       "...                                                 ...          ...   \n",
       "6509                       /index.php/component/search/        303.0   \n",
       "6510                       /index.php/component/search/        303.0   \n",
       "6511        /index.php/component/users/?task=user.login        303.0   \n",
       "6512                       /index.php/component/search/        200.0   \n",
       "6513                       /index.php/component/search/        303.0   \n",
       "6514                       /index.php/component/search/        303.0   \n",
       "6515        /index.php/component/users/?task=user.login        303.0   \n",
       "6516                                         /index.php        200.0   \n",
       "6517                       /index.php/component/search/        500.0   \n",
       "6518                       /index.php/component/search/        200.0   \n",
       "6519                       /index.php/component/search/        200.0   \n",
       "6520                           /administrator/index.php        303.0   \n",
       "6521                       /index.php/component/search/        303.0   \n",
       "6522               /index.php/component/users/?task=%5c        200.0   \n",
       "6523                       /index.php/component/search/        303.0   \n",
       "6524                       /index.php/component/search/        303.0   \n",
       "6525                                         /index.php        303.0   \n",
       "6526                       /index.php/component/search/        200.0   \n",
       "6527                                         /index.php        200.0   \n",
       "6528                       /index.php/component/search/        303.0   \n",
       "6529                                         /index.php        200.0   \n",
       "6530                           /administrator/index.php        500.0   \n",
       "6531                       /index.php/component/search/        303.0   \n",
       "6532                       /index.php/component/search/        303.0   \n",
       "6533                       /index.php/component/search/        200.0   \n",
       "6534                       /index.php/component/search/        303.0   \n",
       "6535                       /index.php/component/search/        303.0   \n",
       "6536                       /index.php/component/search/        303.0   \n",
       "6537                       /index.php/component/search/        200.0   \n",
       "6538                       /index.php/component/search/        303.0   \n",
       "\n",
       "                                             User agent  \n",
       "0     Mozilla/5.0 (Windows NT 6.1; WOW64) AppleWebKi...  \n",
       "1     Mozilla/5.0 (Windows NT 6.1; WOW64) AppleWebKi...  \n",
       "2     Mozilla/5.0 (Windows NT 6.1; WOW64) AppleWebKi...  \n",
       "3     Mozilla/5.0 (Windows NT 6.1; WOW64) AppleWebKi...  \n",
       "4     Mozilla/5.0 (Windows NT 6.1; WOW64) AppleWebKi...  \n",
       "5     Mozilla/5.0 (Windows NT 6.1; WOW64) AppleWebKi...  \n",
       "6     Mozilla/5.0 (Windows NT 6.1; WOW64) AppleWebKi...  \n",
       "7     Mozilla/5.0 (Windows NT 6.1; WOW64) AppleWebKi...  \n",
       "8     Mozilla/5.0 (Windows NT 6.1; WOW64) AppleWebKi...  \n",
       "9     Mozilla/5.0 (Windows NT 6.1; WOW64) AppleWebKi...  \n",
       "10    Mozilla/5.0 (Windows NT 6.1; WOW64) AppleWebKi...  \n",
       "11                                                  NaN  \n",
       "12    Mozilla/5.0 (Windows NT 6.1; WOW64) AppleWebKi...  \n",
       "13    Mozilla/5.0 (Windows NT 6.1; WOW64) AppleWebKi...  \n",
       "14    Mozilla/5.0 (Windows NT 6.1; WOW64) AppleWebKi...  \n",
       "15    Mozilla/5.0 (Windows NT 6.1; WOW64) AppleWebKi...  \n",
       "16    Mozilla/5.0 (Windows NT 6.1; WOW64) AppleWebKi...  \n",
       "17    Mozilla/5.0 (Windows NT 6.1; WOW64) AppleWebKi...  \n",
       "18    Mozilla/5.0 (Windows NT 6.1; WOW64) AppleWebKi...  \n",
       "19    Mozilla/5.0 (Windows NT 6.1; WOW64) AppleWebKi...  \n",
       "20    Mozilla/5.0 (Windows NT 6.1; WOW64) AppleWebKi...  \n",
       "21    Mozilla/5.0 (Windows NT 6.1; WOW64) AppleWebKi...  \n",
       "22    Mozilla/5.0 (Windows NT 6.1; WOW64) AppleWebKi...  \n",
       "23    Mozilla/5.0 (Windows NT 6.1; WOW64) AppleWebKi...  \n",
       "24    Mozilla/5.0 (Windows NT 6.1; WOW64) AppleWebKi...  \n",
       "25    Mozilla/5.0 (Windows NT 6.1; WOW64) AppleWebKi...  \n",
       "26    Mozilla/5.0 (Windows NT 6.1; WOW64) AppleWebKi...  \n",
       "27    Mozilla/5.0 (Windows NT 6.1; WOW64) AppleWebKi...  \n",
       "28                                                  NaN  \n",
       "29    Mozilla/5.0 (Windows NT 6.1; WOW64) AppleWebKi...  \n",
       "...                                                 ...  \n",
       "6509  Mozilla/5.0 (Windows NT 6.1; WOW64) AppleWebKi...  \n",
       "6510  Mozilla/5.0 (Windows NT 6.1; WOW64) AppleWebKi...  \n",
       "6511  Mozilla/5.0 (Windows NT 6.1; WOW64) AppleWebKi...  \n",
       "6512  Mozilla/5.0 (Windows NT 6.1; WOW64) AppleWebKi...  \n",
       "6513  Mozilla/5.0 (Windows NT 6.1; WOW64) AppleWebKi...  \n",
       "6514  Mozilla/5.0 (Windows NT 6.1; WOW64) AppleWebKi...  \n",
       "6515  Mozilla/5.0 (Windows NT 6.1; WOW64) AppleWebKi...  \n",
       "6516  Mozilla/5.0 (Windows NT 6.1; WOW64) AppleWebKi...  \n",
       "6517  Mozilla/5.0 (Windows NT 6.1; WOW64) AppleWebKi...  \n",
       "6518  Mozilla/5.0 (Windows NT 6.1; WOW64) AppleWebKi...  \n",
       "6519  Mozilla/5.0 (Windows NT 6.1; WOW64) AppleWebKi...  \n",
       "6520  Mozilla/5.0 (Windows NT 6.1; WOW64) AppleWebKi...  \n",
       "6521  Mozilla/5.0 (Windows NT 6.1; WOW64) AppleWebKi...  \n",
       "6522  Mozilla/5.0 (Windows NT 6.1; WOW64) AppleWebKi...  \n",
       "6523  Mozilla/5.0 (Windows NT 6.1; WOW64) AppleWebKi...  \n",
       "6524  Mozilla/5.0 (Windows NT 6.1; WOW64) AppleWebKi...  \n",
       "6525  Mozilla/5.0 (Windows NT 6.1; WOW64) AppleWebKi...  \n",
       "6526  Mozilla/5.0 (Windows NT 6.1; WOW64) AppleWebKi...  \n",
       "6527  Mozilla/5.0 (Windows NT 6.1; WOW64) AppleWebKi...  \n",
       "6528  Mozilla/5.0 (Windows NT 6.1; WOW64) AppleWebKi...  \n",
       "6529  Mozilla/5.0 (Windows NT 6.1; WOW64) AppleWebKi...  \n",
       "6530  Mozilla/5.0 (Windows NT 6.1; WOW64) AppleWebKi...  \n",
       "6531  Mozilla/5.0 (Windows NT 6.1; WOW64) AppleWebKi...  \n",
       "6532  Mozilla/5.0 (Windows NT 6.1; WOW64) AppleWebKi...  \n",
       "6533  Mozilla/5.0 (Windows NT 6.1; WOW64) AppleWebKi...  \n",
       "6534  Mozilla/5.0 (Windows NT 6.1; WOW64) AppleWebKi...  \n",
       "6535  Mozilla/5.0 (Windows NT 6.1; WOW64) AppleWebKi...  \n",
       "6536  Mozilla/5.0 (Windows NT 6.1; WOW64) AppleWebKi...  \n",
       "6537  Mozilla/5.0 (Windows NT 6.1; WOW64) AppleWebKi...  \n",
       "6538  Mozilla/5.0 (Windows NT 6.1; WOW64) AppleWebKi...  \n",
       "\n",
       "[6539 rows x 7 columns]>"
      ]
     },
     "execution_count": 8,
     "metadata": {},
     "output_type": "execute_result"
    }
   ],
   "source": [
    "df.describe"
   ]
  },
  {
   "cell_type": "code",
   "execution_count": 9,
   "metadata": {},
   "outputs": [
    {
     "data": {
      "text/plain": [
       "(6539, 7)"
      ]
     },
     "execution_count": 9,
     "metadata": {},
     "output_type": "execute_result"
    }
   ],
   "source": [
    "# checking the  shape of the dataset\n",
    "df.shape\n"
   ]
  },
  {
   "cell_type": "code",
   "execution_count": 10,
   "metadata": {},
   "outputs": [
    {
     "name": "stdout",
     "output_type": "stream",
     "text": [
      "('Missing Values::\\n', Unnamed: 0      0\n",
      "Address         0\n",
      "Time stamp      0\n",
      "Method          0\n",
      "URI             1\n",
      "status code     2\n",
      "User agent     33\n",
      "dtype: int64)\n"
     ]
    }
   ],
   "source": [
    "# check for missing values\n",
    "print('Missing Values::\\n',df.isnull().sum())"
   ]
  },
  {
   "cell_type": "code",
   "execution_count": 11,
   "metadata": {},
   "outputs": [],
   "source": [
    "## since the columns having many massing values am not going to use  ican just ingnore them ,and iwill later drop them. "
   ]
  },
  {
   "cell_type": "markdown",
   "metadata": {},
   "source": [
    "## DATA CLEANING"
   ]
  },
  {
   "cell_type": "code",
   "execution_count": 12,
   "metadata": {},
   "outputs": [
    {
     "data": {
      "text/html": [
       "<div>\n",
       "<style scoped>\n",
       "    .dataframe tbody tr th:only-of-type {\n",
       "        vertical-align: middle;\n",
       "    }\n",
       "\n",
       "    .dataframe tbody tr th {\n",
       "        vertical-align: top;\n",
       "    }\n",
       "\n",
       "    .dataframe thead th {\n",
       "        text-align: right;\n",
       "    }\n",
       "</style>\n",
       "<table border=\"1\" class=\"dataframe\">\n",
       "  <thead>\n",
       "    <tr style=\"text-align: right;\">\n",
       "      <th></th>\n",
       "      <th>Time stamp</th>\n",
       "      <th>Method</th>\n",
       "      <th>status code</th>\n",
       "    </tr>\n",
       "  </thead>\n",
       "  <tbody>\n",
       "    <tr>\n",
       "      <th>0</th>\n",
       "      <td>[22/Dec/2016:16:30:52</td>\n",
       "      <td>POST</td>\n",
       "      <td>303.0</td>\n",
       "    </tr>\n",
       "    <tr>\n",
       "      <th>1</th>\n",
       "      <td>[22/Dec/2016:16:29:05</td>\n",
       "      <td>POST</td>\n",
       "      <td>500.0</td>\n",
       "    </tr>\n",
       "  </tbody>\n",
       "</table>\n",
       "</div>"
      ],
      "text/plain": [
       "              Time stamp Method  status code\n",
       "0  [22/Dec/2016:16:30:52   POST        303.0\n",
       "1  [22/Dec/2016:16:29:05   POST        500.0"
      ]
     },
     "execution_count": 12,
     "metadata": {},
     "output_type": "execute_result"
    }
   ],
   "source": [
    "## Dropping un necessary columns\n",
    "df = df.drop(['Unnamed: 0','Address','URI','User agent'],axis = 1)\n",
    "df.head(2)"
   ]
  },
  {
   "cell_type": "code",
   "execution_count": 14,
   "metadata": {},
   "outputs": [
    {
     "data": {
      "text/plain": [
       "Text(0,0.5,'frequency')"
      ]
     },
     "execution_count": 14,
     "metadata": {},
     "output_type": "execute_result"
    },
    {
     "data": {
      "image/png": "[encoded data removed]",
      "text/plain": [
       "<Figure size 432x288 with 1 Axes>"
      ]
     },
     "metadata": {
      "needs_background": "light"
     },
     "output_type": "display_data"
    }
   ],
   "source": [
    "df['Method'].value_counts()[:20].plot(kind='bar')\n",
    "plt.title('The frequency at which the http methods were used')\n",
    "plt.xlabel('HTTP methods')\n",
    "plt.ylabel('frequency')"
   ]
  },
  {
   "cell_type": "code",
   "execution_count": 17,
   "metadata": {},
   "outputs": [],
   "source": [
    "# converting these columns to numeric because i want it to appear in my corr matrix,i'll convert it back after\n",
    "df['Time stamp'] = pd.to_numeric(df['Time stamp'], errors='ignore')"
   ]
  },
  {
   "cell_type": "code",
   "execution_count": 18,
   "metadata": {},
   "outputs": [],
   "source": [
    "df['Method'] = pd.to_numeric(df['Method'], errors='ignore')"
   ]
  },
  {
   "cell_type": "code",
   "execution_count": 19,
   "metadata": {},
   "outputs": [],
   "source": [
    "df['status code'] = pd.to_numeric(df['status code'], errors='ignore')"
   ]
  },
  {
   "cell_type": "code",
   "execution_count": 20,
   "metadata": {},
   "outputs": [
    {
     "data": {
      "text/html": [
       "<div>\n",
       "<style scoped>\n",
       "    .dataframe tbody tr th:only-of-type {\n",
       "        vertical-align: middle;\n",
       "    }\n",
       "\n",
       "    .dataframe tbody tr th {\n",
       "        vertical-align: top;\n",
       "    }\n",
       "\n",
       "    .dataframe thead th {\n",
       "        text-align: right;\n",
       "    }\n",
       "</style>\n",
       "<table border=\"1\" class=\"dataframe\">\n",
       "  <thead>\n",
       "    <tr style=\"text-align: right;\">\n",
       "      <th></th>\n",
       "      <th>Time stamp</th>\n",
       "      <th>Method</th>\n",
       "      <th>status code</th>\n",
       "    </tr>\n",
       "  </thead>\n",
       "  <tbody>\n",
       "    <tr>\n",
       "      <th>0</th>\n",
       "      <td>[22/Dec/2016:16:30:52</td>\n",
       "      <td>POST</td>\n",
       "      <td>303.0</td>\n",
       "    </tr>\n",
       "    <tr>\n",
       "      <th>1</th>\n",
       "      <td>[22/Dec/2016:16:29:05</td>\n",
       "      <td>POST</td>\n",
       "      <td>500.0</td>\n",
       "    </tr>\n",
       "    <tr>\n",
       "      <th>2</th>\n",
       "      <td>[22/Dec/2016:16:28:53</td>\n",
       "      <td>POST</td>\n",
       "      <td>303.0</td>\n",
       "    </tr>\n",
       "    <tr>\n",
       "      <th>3</th>\n",
       "      <td>[22/Dec/2016:16:32:50</td>\n",
       "      <td>POST</td>\n",
       "      <td>200.0</td>\n",
       "    </tr>\n",
       "    <tr>\n",
       "      <th>4</th>\n",
       "      <td>[22/Dec/2016:16:29:13</td>\n",
       "      <td>POST</td>\n",
       "      <td>200.0</td>\n",
       "    </tr>\n",
       "  </tbody>\n",
       "</table>\n",
       "</div>"
      ],
      "text/plain": [
       "              Time stamp Method  status code\n",
       "0  [22/Dec/2016:16:30:52   POST        303.0\n",
       "1  [22/Dec/2016:16:29:05   POST        500.0\n",
       "2  [22/Dec/2016:16:28:53   POST        303.0\n",
       "3  [22/Dec/2016:16:32:50   POST        200.0\n",
       "4  [22/Dec/2016:16:29:13   POST        200.0"
      ]
     },
     "execution_count": 20,
     "metadata": {},
     "output_type": "execute_result"
    }
   ],
   "source": [
    "df.head(5)"
   ]
  },
  {
   "cell_type": "code",
   "execution_count": null,
   "metadata": {},
   "outputs": [],
   "source": []
  },
  {
   "cell_type": "code",
   "execution_count": null,
   "metadata": {},
   "outputs": [],
   "source": []
  },
  {
   "cell_type": "code",
   "execution_count": null,
   "metadata": {},
   "outputs": [],
   "source": []
  },
  {
   "cell_type": "code",
   "execution_count": null,
   "metadata": {},
   "outputs": [],
   "source": []
  },
  {
   "cell_type": "code",
   "execution_count": null,
   "metadata": {},
   "outputs": [],
   "source": []
  }
 ],
 "metadata": {
  "kernelspec": {
   "display_name": "Python 2",
   "language": "python",
   "name": "python2"
  },
  "language_info": {
   "codemirror_mode": {
    "name": "ipython",
    "version": 2
   },
   "file_extension": ".py",
   "mimetype": "text/x-python",
   "name": "python",
   "nbconvert_exporter": "python",
   "pygments_lexer": "ipython2",
   "version": "2.7.16"
  }
 },
 "nbformat": 4,
 "nbformat_minor": 2
}
